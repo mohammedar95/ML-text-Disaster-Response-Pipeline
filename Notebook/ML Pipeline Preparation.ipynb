{
 "cells": [
  {
   "cell_type": "markdown",
   "metadata": {},
   "source": [
    "# ML Pipeline Preparation\n",
    "Follow the instructions below to help you create your ML pipeline.\n",
    "### 1. Import libraries and load data from database.\n",
    "- Import Python libraries\n",
    "- Load dataset from database with [`read_sql_table`](https://pandas.pydata.org/pandas-docs/stable/generated/pandas.read_sql_table.html)\n",
    "- Define feature and target variables X and Y"
   ]
  },
  {
   "cell_type": "code",
   "execution_count": 97,
   "metadata": {},
   "outputs": [
    {
     "name": "stderr",
     "output_type": "stream",
     "text": [
      "[nltk_data] Downloading package punkt to /Users/mo/nltk_data...\n",
      "[nltk_data]   Package punkt is already up-to-date!\n",
      "[nltk_data] Downloading package wordnet to /Users/mo/nltk_data...\n",
      "[nltk_data]   Package wordnet is already up-to-date!\n",
      "[nltk_data] Downloading package stopwords to /Users/mo/nltk_data...\n",
      "[nltk_data]   Package stopwords is already up-to-date!\n",
      "[nltk_data] Downloading package averaged_perceptron_tagger to\n",
      "[nltk_data]     /Users/mo/nltk_data...\n",
      "[nltk_data]   Package averaged_perceptron_tagger is already up-to-\n",
      "[nltk_data]       date!\n"
     ]
    }
   ],
   "source": [
    "# import libraries\n",
    "import nltk\n",
    "nltk.download(['punkt', 'wordnet', 'stopwords', 'averaged_perceptron_tagger'])\n",
    "\n",
    "# import statements\n",
    "\n",
    "import pandas as pd\n",
    "import numpy as np\n",
    "import re\n",
    "from nltk.tokenize import word_tokenize\n",
    "from nltk.tokenize import sent_tokenize\n",
    "from nltk.tag import pos_tag\n",
    "\n",
    "from nltk.corpus import stopwords\n",
    "from nltk.stem import WordNetLemmatizer\n",
    "from sqlalchemy import create_engine\n",
    "\n",
    "\n",
    "from sklearn.base import BaseEstimator, TransformerMixin\n",
    "from sklearn.metrics import confusion_matrix, accuracy_score\n",
    "from sklearn.pipeline import Pipeline, FeatureUnion\n",
    "from sklearn.ensemble import GradientBoostingClassifier, AdaBoostClassifier\n",
    "from sklearn.metrics import confusion_matrix\n",
    "from sklearn.ensemble import RandomForestClassifier\n",
    "from sklearn.model_selection import train_test_split\n",
    "from sklearn.feature_extraction.text import CountVectorizer, TfidfTransformer\n",
    "from sklearn.multioutput import MultiOutputClassifier\n",
    "from sklearn.svm import LinearSVC\n",
    "from sklearn.tree import DecisionTreeClassifier\n",
    "from sklearn.metrics import make_scorer, accuracy_score, f1_score, fbeta_score, classification_report, recall_score, precision_score\n",
    "from sklearn.model_selection import GridSearchCV"
   ]
  },
  {
   "cell_type": "code",
   "execution_count": 98,
   "metadata": {},
   "outputs": [],
   "source": [
    "# load data from database\n",
    "engine = create_engine('sqlite:///df_clean.db')\n",
    "df = pd.read_sql_table(\"messages\", engine)\n",
    "df = df[df.related != 2]\n",
    "X = df[\"message\"]\n",
    "y = df.iloc[:,4:]"
   ]
  },
  {
   "cell_type": "markdown",
   "metadata": {},
   "source": [
    "### 2. Write a tokenization function to process your text data"
   ]
  },
  {
   "cell_type": "code",
   "execution_count": 99,
   "metadata": {},
   "outputs": [],
   "source": [
    "def tokenize(text):\n",
    "    \n",
    "    url_regex = r'http[s]?://(?:[a-zA-Z]|[0-9]|[$-_@.&+]|[!*\\(\\),]|(?:%[0-9a-fA-F][0-9a-fA-F]))+'\n",
    "    \n",
    "    # get list of all urls using regex\n",
    "    detected_urls = re.findall(url_regex, text)\n",
    "    \n",
    "    # replace each url in text string with placeholder\n",
    "    for url in detected_urls:\n",
    "        text = text.replace(url,'urlplaceholder')\n",
    "\n",
    "    tokens = word_tokenize(text)\n",
    "    lemmatizer = WordNetLemmatizer()\n",
    "    punc = '''!()-[]{};:'\"\\, <>./?@#$%^&*_~'''\n",
    "    \n",
    "    clean_tokens = []\n",
    "    for tok in tokens:\n",
    "        clean_tok = lemmatizer.lemmatize(tok).lower().strip()\n",
    "        clean_tokens.append(clean_tok)\n",
    "        \n",
    "    #clean_tokens = [x for x in clean_tokens if x not in punc]    \n",
    "    return clean_tokens"
   ]
  },
  {
   "cell_type": "code",
   "execution_count": 100,
   "metadata": {},
   "outputs": [
    {
     "name": "stdout",
     "output_type": "stream",
     "text": [
      "Weather update - a cold front from Cuba that could pass over Haiti\n",
      "['weather', 'update', '-', 'a', 'cold', 'front', 'from', 'cuba', 'that', 'could', 'pas', 'over', 'haiti'] \n",
      "\n",
      "Is the Hurricane over or is it not over\n",
      "['is', 'the', 'hurricane', 'over', 'or', 'is', 'it', 'not', 'over'] \n",
      "\n",
      "Looking for someone but no name\n",
      "['looking', 'for', 'someone', 'but', 'no', 'name'] \n",
      "\n",
      "UN reports Leogane 80-90 destroyed. Only Hospital St. Croix functioning. Needs supplies desperately.\n",
      "['un', 'report', 'leogane', '80-90', 'destroyed', '.', 'only', 'hospital', 'st.', 'croix', 'functioning', '.', 'needs', 'supply', 'desperately', '.'] \n",
      "\n",
      "says: west side of Haiti, rest of the country today and tonight\n",
      "['say', ':', 'west', 'side', 'of', 'haiti', ',', 'rest', 'of', 'the', 'country', 'today', 'and', 'tonight'] \n",
      "\n"
     ]
    }
   ],
   "source": [
    "for message in X[:5]:\n",
    "    tokens = tokenize(message)\n",
    "    print(message)\n",
    "    print(tokens, '\\n')"
   ]
  },
  {
   "cell_type": "markdown",
   "metadata": {},
   "source": [
    "### 3. Build a machine learning pipeline\n",
    "This machine pipeline should take in the `message` column as input and output classification results on the other 36 categories in the dataset. You may find the [MultiOutputClassifier](http://scikit-learn.org/stable/modules/generated/sklearn.multioutput.MultiOutputClassifier.html) helpful for predicting multiple target variables."
   ]
  },
  {
   "cell_type": "code",
   "execution_count": 101,
   "metadata": {},
   "outputs": [],
   "source": [
    "pipeline = Pipeline([\n",
    "    ('vect', CountVectorizer(tokenizer=tokenize)),\n",
    "    ('tfidf', TfidfTransformer()),\n",
    "    ('clf', MultiOutputClassifier(RandomForestClassifier(random_state=42)))\n",
    "])\n",
    "\n",
    "pipeline2 = Pipeline([\n",
    "        ('vect', CountVectorizer(tokenizer=tokenize)),\n",
    "        ('tfidf', TfidfTransformer()),\n",
    "        ('clf2', MultiOutputClassifier(AdaBoostClassifier()))\n",
    "])"
   ]
  },
  {
   "cell_type": "markdown",
   "metadata": {},
   "source": [
    "### 4. Train pipeline\n",
    "- Split data into train and test sets\n",
    "- Train pipeline"
   ]
  },
  {
   "cell_type": "code",
   "execution_count": 26,
   "metadata": {},
   "outputs": [],
   "source": [
    "X_train, X_test, y_train, y_test = train_test_split(X, y)"
   ]
  },
  {
   "cell_type": "markdown",
   "metadata": {},
   "source": [
    "# Pipeline 1"
   ]
  },
  {
   "cell_type": "code",
   "execution_count": 27,
   "metadata": {},
   "outputs": [
    {
     "data": {
      "text/plain": [
       "Pipeline(steps=[('vect',\n",
       "                 CountVectorizer(tokenizer=<function tokenize at 0x7fbab7e23ca0>)),\n",
       "                ('tfidf', TfidfTransformer()),\n",
       "                ('clf',\n",
       "                 MultiOutputClassifier(estimator=RandomForestClassifier(random_state=42)))])"
      ]
     },
     "execution_count": 27,
     "metadata": {},
     "output_type": "execute_result"
    }
   ],
   "source": [
    "pipeline.fit(X_train, y_train)"
   ]
  },
  {
   "cell_type": "code",
   "execution_count": 28,
   "metadata": {},
   "outputs": [
    {
     "name": "stdout",
     "output_type": "stream",
     "text": [
      "The training accuracy is: \n",
      "99.77460171097792\n",
      " \n"
     ]
    }
   ],
   "source": [
    "y_pred = pipeline.predict(X_test)\n",
    "\n",
    "# Training accuracy\n",
    "print(\"The training accuracy is: \")\n",
    "print(accuracy_score(y_train, pipeline.predict(X_train))*100)\n",
    "print(\" \")"
   ]
  },
  {
   "cell_type": "markdown",
   "metadata": {},
   "source": [
    "### 5. Test your model\n",
    "Report the f1 score, precision and recall for each output category of the dataset. You can do this by iterating through the columns and calling sklearn's `classification_report` on each."
   ]
  },
  {
   "cell_type": "code",
   "execution_count": 40,
   "metadata": {},
   "outputs": [
    {
     "name": "stdout",
     "output_type": "stream",
     "text": [
      "                        precision    recall  f1-score   support\n",
      "\n",
      "               related       0.81      0.97      0.88      4998\n",
      "               request       0.90      0.45      0.60      1152\n",
      "                 offer       0.00      0.00      0.00        37\n",
      "           aid_related       0.80      0.61      0.69      2755\n",
      "          medical_help       0.60      0.02      0.04       516\n",
      "      medical_products       0.61      0.04      0.08       317\n",
      "     search_and_rescue       0.64      0.04      0.07       187\n",
      "              security       0.50      0.01      0.02       118\n",
      "              military       0.64      0.04      0.07       228\n",
      "           child_alone       0.00      0.00      0.00         0\n",
      "                 water       0.94      0.29      0.44       401\n",
      "                  food       0.89      0.40      0.55       755\n",
      "               shelter       0.90      0.28      0.43       603\n",
      "              clothing       0.64      0.08      0.14        90\n",
      "                 money       0.71      0.03      0.06       161\n",
      "        missing_people       0.50      0.01      0.02        83\n",
      "              refugees       0.50      0.01      0.02       229\n",
      "                 death       0.79      0.07      0.13       315\n",
      "             other_aid       0.67      0.01      0.02       873\n",
      "infrastructure_related       0.00      0.00      0.00       434\n",
      "             transport       0.74      0.06      0.11       295\n",
      "             buildings       0.83      0.03      0.06       327\n",
      "           electricity       0.86      0.05      0.10       113\n",
      "                 tools       0.00      0.00      0.00        43\n",
      "             hospitals       0.00      0.00      0.00        71\n",
      "                 shops       0.00      0.00      0.00        36\n",
      "           aid_centers       0.00      0.00      0.00        82\n",
      "  other_infrastructure       0.00      0.00      0.00       281\n",
      "       weather_related       0.86      0.62      0.72      1790\n",
      "                floods       0.91      0.35      0.50       503\n",
      "                 storm       0.80      0.43      0.56       611\n",
      "                  fire       0.00      0.00      0.00        70\n",
      "            earthquake       0.88      0.71      0.78       602\n",
      "                  cold       0.50      0.01      0.03       144\n",
      "         other_weather       0.59      0.03      0.05       349\n",
      "         direct_report       0.87      0.36      0.51      1303\n",
      "\n",
      "             micro avg       0.83      0.49      0.61     20872\n",
      "             macro avg       0.55      0.17      0.21     20872\n",
      "          weighted avg       0.76      0.49      0.53     20872\n",
      "           samples avg       0.70      0.46      0.51     20872\n",
      "\n"
     ]
    },
    {
     "name": "stderr",
     "output_type": "stream",
     "text": [
      "/opt/anaconda3/lib/python3.8/site-packages/sklearn/metrics/_classification.py:1308: UndefinedMetricWarning: Precision and F-score are ill-defined and being set to 0.0 in labels with no predicted samples. Use `zero_division` parameter to control this behavior.\n",
      "  _warn_prf(average, modifier, msg_start, len(result))\n",
      "/opt/anaconda3/lib/python3.8/site-packages/sklearn/metrics/_classification.py:1308: UndefinedMetricWarning: Recall and F-score are ill-defined and being set to 0.0 in labels with no true samples. Use `zero_division` parameter to control this behavior.\n",
      "  _warn_prf(average, modifier, msg_start, len(result))\n",
      "/opt/anaconda3/lib/python3.8/site-packages/sklearn/metrics/_classification.py:1308: UndefinedMetricWarning: Precision and F-score are ill-defined and being set to 0.0 in samples with no predicted labels. Use `zero_division` parameter to control this behavior.\n",
      "  _warn_prf(average, modifier, msg_start, len(result))\n",
      "/opt/anaconda3/lib/python3.8/site-packages/sklearn/metrics/_classification.py:1308: UndefinedMetricWarning: Recall and F-score are ill-defined and being set to 0.0 in samples with no true labels. Use `zero_division` parameter to control this behavior.\n",
      "  _warn_prf(average, modifier, msg_start, len(result))\n"
     ]
    }
   ],
   "source": [
    "y_preddb = pd.DataFrame(y_pred)\n",
    "y_preddb.columns = y_test.columns\n",
    "y_preddb.index = y_test.index\n",
    "print(classification_report(y_test, y_preddb, target_names=y_preddb.columns))"
   ]
  },
  {
   "cell_type": "code",
   "execution_count": null,
   "metadata": {},
   "outputs": [],
   "source": []
  },
  {
   "cell_type": "markdown",
   "metadata": {},
   "source": [
    "### 6. Improve your model\n",
    "Use grid search to find better parameters. "
   ]
  },
  {
   "cell_type": "code",
   "execution_count": 46,
   "metadata": {},
   "outputs": [],
   "source": [
    "pipeline = Pipeline([\n",
    "    (\"vect\", CountVectorizer(tokenizer=tokenize)),\n",
    "    (\"tfidf\", TfidfTransformer()),\n",
    "    (\"clf\", MultiOutputClassifier(RandomForestClassifier()))\n",
    "])\n",
    "    \n",
    "parameters = {'clf__estimator__n_estimators':[25,50,100],\n",
    "              \"clf__estimator__max_depth\": [25, 50, 100],\n",
    "              \"clf__estimator__max_features\": [\"sqrt\", \"auto\"]\n",
    "             }\n",
    "\n",
    "    \n",
    "cv = GridSearchCV(pipeline, parameters)\n",
    "cv.fit(X_train, y_train)\n",
    "pipe = cv"
   ]
  },
  {
   "cell_type": "markdown",
   "metadata": {
    "tags": []
   },
   "source": [
    "### 7. Test your model\n",
    "Show the accuracy, precision, and recall of the tuned model.  \n",
    "\n",
    "Since this project focuses on code quality, process, and  pipelines, there is no minimum performance metric needed to pass. However, make sure to fine tune your models for accuracy, precision and recall to make your project stand out - especially for your portfolio!"
   ]
  },
  {
   "cell_type": "code",
   "execution_count": null,
   "metadata": {},
   "outputs": [],
   "source": [
    "y_pred = pipe.predict(X_test)\n",
    "\n",
    "# overall accuracy\n",
    "accuracy = (y_pred == y_test).mean().mean()\n",
    "print('Accuracy {0:.2f}% \\n'.format(accuracy*100))\n",
    "\n",
    "# If some labels are not predicted at least once, Y_pred will have different \n",
    "# columns than Y_test, which will cause an error in the classification_report()\n",
    "# So make sure Y_pred has the same labels as Y_test.\n",
    "\n",
    "y_pred = pd.DataFrame(y_pred);\n",
    "y_pred.columns = y_test.columns;\n",
    "y_pred.index = y_test.index;"
   ]
  },
  {
   "cell_type": "code",
   "execution_count": 52,
   "metadata": {},
   "outputs": [
    {
     "name": "stdout",
     "output_type": "stream",
     "text": [
      "                        precision    recall  f1-score   support\n",
      "\n",
      "               related       0.80      0.98      0.88      4998\n",
      "               request       0.91      0.40      0.56      1152\n",
      "                 offer       0.00      0.00      0.00        37\n",
      "           aid_related       0.81      0.59      0.69      2755\n",
      "          medical_help       0.62      0.03      0.05       516\n",
      "      medical_products       0.59      0.03      0.06       317\n",
      "     search_and_rescue       0.67      0.01      0.02       187\n",
      "              security       0.00      0.00      0.00       118\n",
      "              military       1.00      0.03      0.05       228\n",
      "           child_alone       0.00      0.00      0.00         0\n",
      "                 water       0.95      0.15      0.25       401\n",
      "                  food       0.89      0.30      0.45       755\n",
      "               shelter       0.90      0.19      0.31       603\n",
      "              clothing       0.64      0.08      0.14        90\n",
      "                 money       1.00      0.03      0.06       161\n",
      "        missing_people       0.50      0.01      0.02        83\n",
      "              refugees       1.00      0.01      0.02       229\n",
      "                 death       0.78      0.06      0.11       315\n",
      "             other_aid       0.88      0.01      0.02       873\n",
      "infrastructure_related       0.00      0.00      0.00       434\n",
      "             transport       0.84      0.05      0.10       295\n",
      "             buildings       0.86      0.02      0.04       327\n",
      "           electricity       0.88      0.06      0.12       113\n",
      "                 tools       0.00      0.00      0.00        43\n",
      "             hospitals       0.00      0.00      0.00        71\n",
      "                 shops       0.00      0.00      0.00        36\n",
      "           aid_centers       0.00      0.00      0.00        82\n",
      "  other_infrastructure       0.00      0.00      0.00       281\n",
      "       weather_related       0.88      0.52      0.65      1790\n",
      "                floods       0.93      0.20      0.32       503\n",
      "                 storm       0.83      0.22      0.35       611\n",
      "                  fire       0.00      0.00      0.00        70\n",
      "            earthquake       0.89      0.42      0.57       602\n",
      "                  cold       1.00      0.02      0.04       144\n",
      "         other_weather       0.50      0.02      0.03       349\n",
      "         direct_report       0.87      0.34      0.49      1303\n",
      "\n",
      "             micro avg       0.83      0.45      0.58     20872\n",
      "             macro avg       0.59      0.13      0.18     20872\n",
      "          weighted avg       0.79      0.45      0.49     20872\n",
      "           samples avg       0.72      0.44      0.50     20872\n",
      "\n"
     ]
    },
    {
     "name": "stderr",
     "output_type": "stream",
     "text": [
      "/opt/anaconda3/lib/python3.8/site-packages/sklearn/metrics/_classification.py:1308: UndefinedMetricWarning: Precision and F-score are ill-defined and being set to 0.0 in labels with no predicted samples. Use `zero_division` parameter to control this behavior.\n",
      "  _warn_prf(average, modifier, msg_start, len(result))\n",
      "/opt/anaconda3/lib/python3.8/site-packages/sklearn/metrics/_classification.py:1308: UndefinedMetricWarning: Recall and F-score are ill-defined and being set to 0.0 in labels with no true samples. Use `zero_division` parameter to control this behavior.\n",
      "  _warn_prf(average, modifier, msg_start, len(result))\n",
      "/opt/anaconda3/lib/python3.8/site-packages/sklearn/metrics/_classification.py:1308: UndefinedMetricWarning: Precision and F-score are ill-defined and being set to 0.0 in samples with no predicted labels. Use `zero_division` parameter to control this behavior.\n",
      "  _warn_prf(average, modifier, msg_start, len(result))\n",
      "/opt/anaconda3/lib/python3.8/site-packages/sklearn/metrics/_classification.py:1308: UndefinedMetricWarning: Recall and F-score are ill-defined and being set to 0.0 in samples with no true labels. Use `zero_division` parameter to control this behavior.\n",
      "  _warn_prf(average, modifier, msg_start, len(result))\n"
     ]
    }
   ],
   "source": [
    "print(classification_report(y_test, y_pred, target_names=y_pred.columns))"
   ]
  },
  {
   "cell_type": "code",
   "execution_count": 51,
   "metadata": {},
   "outputs": [
    {
     "name": "stdout",
     "output_type": "stream",
     "text": [
      "\n",
      "Best Parameters: {'clf__estimator__max_depth': 100, 'clf__estimator__max_features': 'sqrt', 'clf__estimator__n_estimators': 100}\n"
     ]
    }
   ],
   "source": [
    "print(\"\\nBest Parameters:\", pipe.best_params_)"
   ]
  },
  {
   "cell_type": "markdown",
   "metadata": {},
   "source": [
    "### 8. Try improving your model further. Here are a few ideas:\n",
    "* try other machine learning algorithms\n",
    "* add other features besides the TF-IDF"
   ]
  },
  {
   "cell_type": "code",
   "execution_count": 89,
   "metadata": {},
   "outputs": [
    {
     "data": {
      "text/plain": [
       "{'ccp_alpha': 0.0,\n",
       " 'class_weight': None,\n",
       " 'criterion': 'gini',\n",
       " 'max_depth': None,\n",
       " 'max_features': None,\n",
       " 'max_leaf_nodes': None,\n",
       " 'min_impurity_decrease': 0.0,\n",
       " 'min_samples_leaf': 1,\n",
       " 'min_samples_split': 2,\n",
       " 'min_weight_fraction_leaf': 0.0,\n",
       " 'random_state': None,\n",
       " 'splitter': 'best'}"
      ]
     },
     "execution_count": 89,
     "metadata": {},
     "output_type": "execute_result"
    }
   ],
   "source": [
    "c = DecisionTreeClassifier()\n",
    "c.get_params()"
   ]
  },
  {
   "cell_type": "code",
   "execution_count": 90,
   "metadata": {},
   "outputs": [],
   "source": [
    "pipeline3 = Pipeline([\n",
    "    ('vect', CountVectorizer(tokenizer=tokenize)),\n",
    "    ('tfidf', TfidfTransformer()),\n",
    "    ('clf', MultiOutputClassifier(DecisionTreeClassifier()))\n",
    "])\n",
    "\n",
    "parameters3 = {\n",
    "    'clf__estimator__max_features': ['auto', 'sqrt', 'log2'],\n",
    "    'clf__estimator__max_depth': [1,5,7]\n",
    "} "
   ]
  },
  {
   "cell_type": "code",
   "execution_count": 91,
   "metadata": {},
   "outputs": [],
   "source": [
    "cv2 = GridSearchCV(pipeline3, parameters3).fit(X_train, y_train)\n",
    "pipe2 = cv2"
   ]
  },
  {
   "cell_type": "code",
   "execution_count": 93,
   "metadata": {},
   "outputs": [
    {
     "name": "stdout",
     "output_type": "stream",
     "text": [
      "Accuracy 92.58% \n",
      "\n"
     ]
    }
   ],
   "source": [
    "y_pred = pipe2.predict(X_test)\n",
    "\n",
    "# overall accuracy\n",
    "accuracy = (y_pred == y_test).mean().mean()\n",
    "print('Accuracy {0:.2f}% \\n'.format(accuracy*100))\n",
    "\n",
    "# If some labels are not predicted at least once, Y_pred will have different \n",
    "# columns than Y_test, which will cause an error in the classification_report()\n",
    "# So make sure Y_pred has the same labels as Y_test.\n",
    "\n",
    "y_pred = pd.DataFrame(y_pred);\n",
    "y_pred.columns = y_test.columns;\n",
    "y_pred.index = y_test.index;"
   ]
  },
  {
   "cell_type": "code",
   "execution_count": 94,
   "metadata": {},
   "outputs": [
    {
     "name": "stdout",
     "output_type": "stream",
     "text": [
      "                        precision    recall  f1-score   support\n",
      "\n",
      "               related       0.77      1.00      0.87      4998\n",
      "               request       1.00      0.00      0.00      1152\n",
      "                 offer       0.00      0.00      0.00        37\n",
      "           aid_related       0.79      0.01      0.01      2755\n",
      "          medical_help       0.50      0.01      0.02       516\n",
      "      medical_products       0.10      0.00      0.01       317\n",
      "     search_and_rescue       0.00      0.00      0.00       187\n",
      "              security       0.00      0.00      0.00       118\n",
      "              military       0.00      0.00      0.00       228\n",
      "           child_alone       0.00      0.00      0.00         0\n",
      "                 water       0.00      0.00      0.00       401\n",
      "                  food       0.00      0.00      0.00       755\n",
      "               shelter       0.00      0.00      0.00       603\n",
      "              clothing       0.00      0.00      0.00        90\n",
      "                 money       0.00      0.00      0.00       161\n",
      "        missing_people       0.00      0.00      0.00        83\n",
      "              refugees       0.00      0.00      0.00       229\n",
      "                 death       0.00      0.00      0.00       315\n",
      "             other_aid       0.00      0.00      0.00       873\n",
      "infrastructure_related       0.00      0.00      0.00       434\n",
      "             transport       0.00      0.00      0.00       295\n",
      "             buildings       0.00      0.00      0.00       327\n",
      "           electricity       0.00      0.00      0.00       113\n",
      "                 tools       0.00      0.00      0.00        43\n",
      "             hospitals       0.00      0.00      0.00        71\n",
      "                 shops       0.00      0.00      0.00        36\n",
      "           aid_centers       0.00      0.00      0.00        82\n",
      "  other_infrastructure       0.00      0.00      0.00       281\n",
      "       weather_related       1.00      0.00      0.00      1790\n",
      "                floods       1.00      0.00      0.01       503\n",
      "                 storm       0.00      0.00      0.00       611\n",
      "                  fire       0.00      0.00      0.00        70\n",
      "            earthquake       1.00      0.01      0.01       602\n",
      "                  cold       0.00      0.00      0.00       144\n",
      "         other_weather       0.50      0.00      0.01       349\n",
      "         direct_report       0.17      0.00      0.00      1303\n",
      "\n",
      "             micro avg       0.77      0.24      0.37     20872\n",
      "             macro avg       0.19      0.03      0.03     20872\n",
      "          weighted avg       0.52      0.24      0.21     20872\n",
      "           samples avg       0.77      0.33      0.40     20872\n",
      "\n"
     ]
    },
    {
     "name": "stderr",
     "output_type": "stream",
     "text": [
      "/opt/anaconda3/lib/python3.8/site-packages/sklearn/metrics/_classification.py:1308: UndefinedMetricWarning: Precision and F-score are ill-defined and being set to 0.0 in labels with no predicted samples. Use `zero_division` parameter to control this behavior.\n",
      "  _warn_prf(average, modifier, msg_start, len(result))\n",
      "/opt/anaconda3/lib/python3.8/site-packages/sklearn/metrics/_classification.py:1308: UndefinedMetricWarning: Recall and F-score are ill-defined and being set to 0.0 in labels with no true samples. Use `zero_division` parameter to control this behavior.\n",
      "  _warn_prf(average, modifier, msg_start, len(result))\n",
      "/opt/anaconda3/lib/python3.8/site-packages/sklearn/metrics/_classification.py:1308: UndefinedMetricWarning: Precision and F-score are ill-defined and being set to 0.0 in samples with no predicted labels. Use `zero_division` parameter to control this behavior.\n",
      "  _warn_prf(average, modifier, msg_start, len(result))\n",
      "/opt/anaconda3/lib/python3.8/site-packages/sklearn/metrics/_classification.py:1308: UndefinedMetricWarning: Recall and F-score are ill-defined and being set to 0.0 in samples with no true labels. Use `zero_division` parameter to control this behavior.\n",
      "  _warn_prf(average, modifier, msg_start, len(result))\n"
     ]
    }
   ],
   "source": [
    "print(classification_report(y_test, y_pred, target_names=y_pred.columns))"
   ]
  },
  {
   "cell_type": "code",
   "execution_count": 96,
   "metadata": {},
   "outputs": [
    {
     "name": "stdout",
     "output_type": "stream",
     "text": [
      "\n",
      "Best Parameters: {'clf__estimator__max_depth': 5, 'clf__estimator__max_features': 'log2'}\n"
     ]
    }
   ],
   "source": [
    "print(\"\\nBest Parameters:\", pipe2.best_params_)"
   ]
  },
  {
   "cell_type": "markdown",
   "metadata": {},
   "source": [
    "### 9. Export your model as a pickle file"
   ]
  },
  {
   "cell_type": "code",
   "execution_count": 95,
   "metadata": {},
   "outputs": [],
   "source": [
    "import pickle\n",
    "ML_pipeline = pickle.dumps('classifier.pkl')"
   ]
  },
  {
   "cell_type": "code",
   "execution_count": null,
   "metadata": {},
   "outputs": [],
   "source": []
  }
 ],
 "metadata": {
  "kernelspec": {
   "display_name": "Python 3 (ipykernel)",
   "language": "python",
   "name": "python3"
  },
  "language_info": {
   "codemirror_mode": {
    "name": "ipython",
    "version": 3
   },
   "file_extension": ".py",
   "mimetype": "text/x-python",
   "name": "python",
   "nbconvert_exporter": "python",
   "pygments_lexer": "ipython3",
   "version": "3.8.12"
  }
 },
 "nbformat": 4,
 "nbformat_minor": 4
}
